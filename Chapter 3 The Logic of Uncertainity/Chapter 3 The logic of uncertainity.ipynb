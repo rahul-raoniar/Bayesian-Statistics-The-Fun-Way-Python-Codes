{
 "cells": [
  {
   "cell_type": "markdown",
   "metadata": {},
   "source": [
    "#### Product rule of uncertainity (AND)\n",
    "\n",
    "$$P(A,B) = P(A) * P(B)$$"
   ]
  },
  {
   "cell_type": "markdown",
   "metadata": {},
   "source": [
    "#### OR rule for `Mutually Exclusive Events`\n",
    "\n",
    "* Useful for only mutually exclusive events\n",
    "* Example, by rolling a die we can't get 1 and 6 at the same time as they are mutually exclusive\n",
    "\n",
    "$$P(A)\\,\\,  OR\\,\\,  P(B) = P(A) + P(B)$$"
   ]
  },
  {
   "cell_type": "markdown",
   "metadata": {},
   "source": [
    "#### OR rule for `Non-Mutually Exclusive Events`\n",
    "\n",
    "$$P(A)\\,\\,  OR\\,\\,  P(B) = P(A) + P(B) - P(A, B)$$"
   ]
  },
  {
   "cell_type": "code",
   "execution_count": null,
   "metadata": {},
   "outputs": [],
   "source": []
  }
 ],
 "metadata": {
  "kernelspec": {
   "display_name": "Python 3.9.12 ('datascience')",
   "language": "python",
   "name": "python3"
  },
  "language_info": {
   "codemirror_mode": {
    "name": "ipython",
    "version": 3
   },
   "file_extension": ".py",
   "mimetype": "text/x-python",
   "name": "python",
   "nbconvert_exporter": "python",
   "pygments_lexer": "ipython3",
   "version": "3.9.12"
  },
  "orig_nbformat": 4,
  "vscode": {
   "interpreter": {
    "hash": "2b0682c63ccf40119d03593b7cd5298f348ffaf8e13faf844cf14e5e4e7e25a8"
   }
  }
 },
 "nbformat": 4,
 "nbformat_minor": 2
}
