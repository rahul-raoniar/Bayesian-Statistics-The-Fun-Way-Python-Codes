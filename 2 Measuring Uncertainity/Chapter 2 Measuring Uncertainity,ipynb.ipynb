{
 "cells": [
  {
   "cell_type": "markdown",
   "metadata": {},
   "source": [
    "#### `Q1`. What is the probability of rolling two six-sided dice and getting a value greater than 7?"
   ]
  },
  {
   "cell_type": "code",
   "execution_count": 2,
   "metadata": {},
   "outputs": [
    {
     "name": "stdout",
     "output_type": "stream",
     "text": [
      "0.4166666666666667\n"
     ]
    }
   ],
   "source": [
    "import numpy as np\n",
    "counter = 0\n",
    "\n",
    "\n",
    "for roll1 in range(1, 7):\n",
    "    for roll2 in range(1, 7):\n",
    "            counter = counter + np.where((roll1 + roll2)>7, 1, 0)\n",
    "print(counter/(6*6))"
   ]
  },
  {
   "cell_type": "markdown",
   "metadata": {},
   "source": [
    "#### `Q1`. What is the probability of rolling three six-sided dice and getting a value greater than 7?"
   ]
  },
  {
   "cell_type": "code",
   "execution_count": 3,
   "metadata": {},
   "outputs": [
    {
     "name": "stdout",
     "output_type": "stream",
     "text": [
      "0.8379629629629629\n"
     ]
    }
   ],
   "source": [
    "import numpy as np\n",
    "counter = 0\n",
    "\n",
    "for roll1 in range(1, 7):\n",
    "    for roll2 in range(1, 7):\n",
    "        for roll3 in range(1, 7):\n",
    "            counter = counter + np.where((roll1 + roll2 + roll3)>7, 1, 0)\n",
    "            \n",
    "print(counter/(6*6*6))"
   ]
  },
  {
   "cell_type": "markdown",
   "metadata": {},
   "source": [
    "#### `Q3`. The Yankees are playing the Red Sox. You’re a diehard Sox fan and\n",
    "bet your friend they’ll win the game. You’ll pay your friend $30 if the Sox\n",
    "lose and your friend will have to pay you only $5 if the Sox win. What is\n",
    "the probability you have intuitively assigned to the belief that the Red Sox\n",
    "will win?\n",
    "\n",
    "$$probability = \\frac{odd}{1+odd}$$"
   ]
  },
  {
   "cell_type": "code",
   "execution_count": 6,
   "metadata": {},
   "outputs": [
    {
     "name": "stdout",
     "output_type": "stream",
     "text": [
      "86\n"
     ]
    }
   ],
   "source": [
    "odd = 30/5\n",
    "probability = odd/(odd+1)\n",
    "print(round(probability*100))"
   ]
  }
 ],
 "metadata": {
  "kernelspec": {
   "display_name": "Python 3.9.12 ('datascience')",
   "language": "python",
   "name": "python3"
  },
  "language_info": {
   "codemirror_mode": {
    "name": "ipython",
    "version": 3
   },
   "file_extension": ".py",
   "mimetype": "text/x-python",
   "name": "python",
   "nbconvert_exporter": "python",
   "pygments_lexer": "ipython3",
   "version": "3.9.12"
  },
  "orig_nbformat": 4,
  "vscode": {
   "interpreter": {
    "hash": "2b0682c63ccf40119d03593b7cd5298f348ffaf8e13faf844cf14e5e4e7e25a8"
   }
  }
 },
 "nbformat": 4,
 "nbformat_minor": 2
}
